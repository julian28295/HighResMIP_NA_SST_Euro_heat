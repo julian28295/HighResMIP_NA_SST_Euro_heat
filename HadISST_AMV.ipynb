{
 "cells": [
  {
   "cell_type": "markdown",
   "id": "33d2af07",
   "metadata": {},
   "source": [
    "# AMV with HadISST"
   ]
  },
  {
   "cell_type": "code",
   "execution_count": 1,
   "id": "7a50ab45",
   "metadata": {},
   "outputs": [],
   "source": [
    "import numpy as np\n",
    "from numpy import *\n",
    "import bisect\n",
    "import scipy as sp\n",
    "from scipy.stats import gaussian_kde, ttest_ind\n",
    "import numpy.matlib \n",
    "import math\n",
    "from scipy import signal\n",
    "import xarray as xr\n",
    "import pandas as pd\n",
    "import matplotlib.pyplot as plt\n",
    "import cartopy as cart\n",
    "import cartopy.crs as ccrs\n",
    "from datetime import *\n",
    "import datetime as datet\n",
    "from dateutil.relativedelta import relativedelta, MO\n",
    "import calendar\n",
    "import matplotlib.animation as animation\n",
    "from matplotlib import rc\n",
    "from dask.distributed import Client, LocalCluster\n",
    "from matplotlib.colors import ListedColormap, LinearSegmentedColormap\n",
    "import os\n",
    "import warnings"
   ]
  },
  {
   "cell_type": "code",
   "execution_count": 16,
   "id": "f3756de6",
   "metadata": {},
   "outputs": [],
   "source": [
    "def butter_lowpass_filter(data, cutoff_freq=1/11, sample_rate=1, order=4):\n",
    "    \"\"\"\n",
    "    Apply Butterworth Filter \n",
    "    \n",
    "    data - Input data\n",
    "    cutoff_freq = 1/11 - 11 year filter - the critical frequency or frequencies\n",
    "    sample_rate = 1 - assuming data is annual \n",
    "    order = 2 - The order of the filter\n",
    "    \n",
    "    \"\"\"\n",
    "    b, a = signal.butter(order, cutoff_freq, btype='low', analog=False)\n",
    "    y = signal.filtfilt(b, a, data)\n",
    "    return y"
   ]
  },
  {
   "cell_type": "code",
   "execution_count": 17,
   "id": "59c33036",
   "metadata": {},
   "outputs": [],
   "source": [
    "# Load HadISST data set\n",
    "HadISST= xr.open_dataset('/work/bm1398/m301111/Observations/HadISST/HadISST_sst_1870-2023_1deg.nc')"
   ]
  },
  {
   "cell_type": "markdown",
   "id": "ae1085a2",
   "metadata": {},
   "source": [
    "## HadISST"
   ]
  },
  {
   "cell_type": "code",
   "execution_count": 12,
   "id": "7af7fe8f",
   "metadata": {},
   "outputs": [],
   "source": [
    "# Define cos(lat) weights\n",
    "weights = np.cos(np.deg2rad(HadISST.latitude)) \n",
    "# Data masked\n",
    "HadISST_masked =HadISST.sst.where(HadISST.sst != -1000.)\n",
    "# Calc monthly mean anomalies\n",
    "HadISST_mon_anom = HadISST_masked.groupby('time.month') - HadISST_masked.groupby('time.month').mean('time')\n",
    "# Calc annual means\n",
    "HadISST_ann_anom = HadISST_mon_anom.groupby('time.year').mean(dim='time')\n",
    "# Calc weighted NA area average (0-60°N, 7.5 - 75°W) of both annual means and monthly mean anomalies\n",
    "HadISST_NAav = HadISST_ann_anom.sel(longitude=slice(-75.5,-7.5), latitude=slice(60.5,0.5)).weighted(weights).mean(('longitude','latitude'), skipna=True).sel(year=slice(1870,2022))\n",
    "HadISST_mon_NAav = HadISST_mon_anom.sel(longitude=slice(-75.5,-7.5), latitude=slice(60.5,0.5)).weighted(weights).mean(('longitude','latitude'), skipna=True).sel(time=slice('1870-01-01','2022-12-01'))\n",
    "# Calc Butterworth Filter\n",
    "HadISST_AMV_Index_lpf = xr.DataArray(data=(butter_lowpass_filter(HadISST_NAav)), dims=[\"year\"], coords=dict(time=HadISST_NAav.year))\n",
    "HadISST_mon_AMV_Index_lpf = xr.DataArray(data=(butter_lowpass_filter(HadISST_mon_NAav)), dims=[\"time\"], coords=dict(time=HadISST_mon_NAav.time))\n",
    "# Detrend SST data (also removes long term mean)^\n",
    "HadISST_NAav_lpf_de = xr.DataArray(data=(signal.detrend(HadISST_AMV_Index_lpf)), dims=[\"year\"], coords=dict(year=HadISST_NAav.year))\n",
    "HadISST_mon_NAav_lpf_de = xr.DataArray(data=(signal.detrend(HadISST_mon_AMV_Index_lpf)), dims=[\"time\"], coords=dict(year=HadISST_mon_AMV_Index_lpf.time))"
   ]
  },
  {
   "cell_type": "markdown",
   "id": "ac94e117-47a0-4796-bfe2-0535a54f2f9c",
   "metadata": {},
   "source": [
    "### Store HadISST AMV for further analysis performed in HighResMIP_ERA5_AMV.ipynb"
   ]
  },
  {
   "cell_type": "code",
   "execution_count": 8,
   "id": "e05a1c84",
   "metadata": {},
   "outputs": [
    {
     "name": "stdout",
     "output_type": "stream",
     "text": [
      "Stored 'HadISST_NAav_lpf_de' (DataArray)\n",
      "Stored 'HadISST_mon_NAav_lpf_de' (DataArray)\n"
     ]
    }
   ],
   "source": [
    "%store HadISST_NAav_lpf_de\n",
    "%store HadISST_mon_NAav_lpf_de"
   ]
  }
 ],
 "metadata": {
  "kernelspec": {
   "display_name": "1 Python 3 (based on the module python3/2023.01)",
   "language": "python",
   "name": "python3_2023_01"
  },
  "language_info": {
   "codemirror_mode": {
    "name": "ipython",
    "version": 3
   },
   "file_extension": ".py",
   "mimetype": "text/x-python",
   "name": "python",
   "nbconvert_exporter": "python",
   "pygments_lexer": "ipython3",
   "version": "3.10.10"
  }
 },
 "nbformat": 4,
 "nbformat_minor": 5
}
